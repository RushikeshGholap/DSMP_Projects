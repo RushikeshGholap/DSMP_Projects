{
 "cells": [
  {
   "cell_type": "markdown",
   "metadata": {},
   "source": [
    "# Make Sense of Census\n",
    "\n",
    "# Problem Statement\n",
    "Hello!\n",
    "\n",
    "You have been hired by 'CACT'(Census Analysis and Collection Team) to help with your numpy programming skills. Your major work for today involves census record management and data analysis.\n",
    "\n",
    "About the Dataset\n",
    "The snapshot of the data, you will be working on : __*Census_data*__\n",
    "\n",
    "![Sample1](images/file.png)\n",
    " \n",
    "\n",
    "#### The dataset has details of 100 people with the following 8 features\n",
    "\n",
    "![Sample2](images/Feature_Description.png)\n",
    "\n",
    "### Why solve this project\n",
    "After completing this project, you will have a better grip on working with numpy. In this project, you will apply the following concepts:\n",
    "\n",
    "- Array Appending\n",
    "- Array Slicing\n",
    "- Array Filtering\n",
    "- Array Aggregation"
   ]
  },
  {
   "cell_type": "markdown",
   "metadata": {},
   "source": [
    "## __*Step 1*__ : Data Reading\n",
    "In this first task, we will load the data to a numpy array and add a new record to it.\n"
   ]
  },
  {
   "cell_type": "code",
   "execution_count": 1,
   "metadata": {},
   "outputs": [
    {
     "name": "stdout",
     "output_type": "stream",
     "text": [
      "The Shape of the Data is :(1000, 8)\n",
      "The Shape of the Census Data is : (1001, 8)\n"
     ]
    }
   ],
   "source": [
    "import numpy as np\n",
    "path = './file.csv'\n",
    "\n",
    "#New record\n",
    "new_record=[[50,  9,  4,  1,  0,  0, 40,  0]]\n",
    "\n",
    "#Loading data file and saving it into a new numpy array \n",
    "data = np.genfromtxt(path, delimiter=\",\", skip_header=1)\n",
    "print(f\"The Shape of the Data is :{data.shape}\")\n",
    "\n",
    "#Concatenating the new record to the existing numpy array\n",
    "census=np.concatenate((data, new_record),axis = 0)\n",
    "print(f\"The Shape of the Census Data is : {census.shape}\")"
   ]
  },
  {
   "cell_type": "markdown",
   "metadata": {},
   "source": [
    "## __*Step 2*__ : Young Country? Old Country?\n",
    "We often ass ociate the potential of a country based on the age distribution of the people residing there. We too want to do a simple analysis of the age distribution"
   ]
  },
  {
   "cell_type": "code",
   "execution_count": 2,
   "metadata": {},
   "outputs": [
    {
     "name": "stdout",
     "output_type": "stream",
     "text": [
      "Age : [39. 50. 38. ... 40. 39. 50.]\n",
      "Maximum value of age is : 90.0\n",
      "Minimum value of age is : 17.0\n",
      "Mean of Age is : 38.06293706293706\n",
      "Standard Deviation of Age is : 13.341478176165857\n"
     ]
    }
   ],
   "source": [
    "# Subsetting the array to include only 'Age' column\n",
    "age = census[:,0]\n",
    "print(f\"Age : {age}\")\n",
    "\n",
    "# Finding the max value of age\n",
    "max_age = age.max()\n",
    "print(f\"Maximum value of age is : {max_age}\")\n",
    "\n",
    "# Find the min value of age\n",
    "min_age = age.min()\n",
    "print(f\"Minimum value of age is : {min_age}\")\n",
    "\n",
    "# Find the mean of age\n",
    "age_mean = age.mean()\n",
    "print(f\"Mean of Age is : {age_mean}\")\n",
    "\n",
    "# Find the standard deviation of age\n",
    "age_std = age.std()\n",
    "print(f\"Standard Deviation of Age is : {age_std}\")"
   ]
  },
  {
   "cell_type": "markdown",
   "metadata": {},
   "source": [
    "## Step 3 : Minority Report\n",
    "The constitution of the country tries it's best to ensure that people of all races are able to live harmoniously. Let's check the country's race distribution to identify the minorities so that the government can help them."
   ]
  },
  {
   "cell_type": "code",
   "execution_count": 3,
   "metadata": {},
   "outputs": [
    {
     "name": "stdout",
     "output_type": "stream",
     "text": [
      "Race_0:  10\n",
      "Race_1:  27\n",
      "Race_2:  110\n",
      "Race_3:  6\n",
      "Race_4:  848\n"
     ]
    }
   ],
   "source": [
    "#Creating new subsets based on 'Age'\n",
    "race_0=census[census[:,2]==0]\n",
    "race_1=census[census[:,2]==1]\n",
    "race_2=census[census[:,2]==2]\n",
    "race_3=census[census[:,2]==3]\n",
    "race_4=census[census[:,2]==4]\n",
    "\n",
    "\n",
    "#Finding the length of the above created subsets\n",
    "len_0=len(race_0)\n",
    "len_1=len(race_1)\n",
    "len_2=len(race_2)\n",
    "len_3=len(race_3)\n",
    "len_4=len(race_4)\n",
    "\n",
    "#Printing the length of the above created subsets\n",
    "print('Race_0: ', len_0)\n",
    "print('Race_1: ', len_1)\n",
    "print('Race_2: ', len_2)\n",
    "print('Race_3: ', len_3)\n",
    "print('Race_4: ', len_4)\n",
    "\n",
    "#Storing the different race lengths with appropriate indexes\n",
    "race_list=[len_0, len_1,len_2, len_3, len_4]\n",
    "\n",
    "#Storing the race with minimum length into a variable \n",
    "minority_race=race_list.index(min(race_list))"
   ]
  },
  {
   "cell_type": "markdown",
   "metadata": {},
   "source": [
    "## __*Step 4*__ : Senior Welfare\n",
    "As per the new govt. policy, all citizens above age 60 should not be made to work more than 25 hours per week. Let us look at the data and see if that policy is followed."
   ]
  },
  {
   "cell_type": "code",
   "execution_count": 4,
   "metadata": {},
   "outputs": [
    {
     "name": "stdout",
     "output_type": "stream",
     "text": [
      "The Average Working Hours is 31.42622950819672\n"
     ]
    }
   ],
   "source": [
    "#Subsetting the array based on the age \n",
    "senior_citizens = census[census[:,0]>60]\n",
    "\n",
    "#Calculating the sum of all the values of array\n",
    "working_hours_sum = senior_citizens.sum(axis=0)[6]\n",
    "\n",
    "#Finding the length of the array\n",
    "senior_citizens_len = len(senior_citizens)\n",
    "\n",
    "#Finding the average working hours\n",
    "avg_working_hours = working_hours_sum/senior_citizens_len\n",
    "\n",
    "#Printing the average working hours\n",
    "print(f\"The Average Working Hours is {avg_working_hours}\")\n"
   ]
  },
  {
   "cell_type": "markdown",
   "metadata": {},
   "source": [
    "## __*Step 5*__ : Education Matters!\n",
    "Our parents have repeatedly told us that we need to study well in order to get a good(read: higher-paying) job. Let's see whether the higher educated people have better pay in general.\n"
   ]
  },
  {
   "cell_type": "code",
   "execution_count": 5,
   "metadata": {},
   "outputs": [
    {
     "name": "stdout",
     "output_type": "stream",
     "text": [
      "Average pay for higher studies : 0.42813455657492355\n",
      "Average pay for lower studies : 0.13649851632047477\n"
     ]
    }
   ],
   "source": [
    "#Creating an array based on 'education' column\n",
    "high=census[census[:,1]>10]\n",
    "\n",
    "#Finding the average pay\n",
    "avg_pay_high=high[:,7].mean()\n",
    "\n",
    "#Printing the average pay\n",
    "print(f\"Average pay for higher studies : {avg_pay_high}\")\n",
    "\n",
    "#Creating an array based on 'education' column\n",
    "low=census[census[:,1]<=10]\n",
    "\n",
    "#Finding the average pay\n",
    "avg_pay_low=low[:,7].mean()\n",
    "\n",
    "#Printing the average pay\n",
    "print(f\"Average pay for lower studies : {avg_pay_low}\")"
   ]
  }
 ],
 "metadata": {
  "kernelspec": {
   "display_name": "Python 3",
   "language": "python",
   "name": "python3"
  },
  "language_info": {
   "codemirror_mode": {
    "name": "ipython",
    "version": 3
   },
   "file_extension": ".py",
   "mimetype": "text/x-python",
   "name": "python",
   "nbconvert_exporter": "python",
   "pygments_lexer": "ipython3",
   "version": "3.7.3"
  }
 },
 "nbformat": 4,
 "nbformat_minor": 2
}
