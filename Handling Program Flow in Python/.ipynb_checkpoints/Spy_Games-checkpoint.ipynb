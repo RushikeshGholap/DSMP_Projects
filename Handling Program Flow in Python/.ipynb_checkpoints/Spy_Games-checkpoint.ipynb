{
 "cells": [
  {
   "cell_type": "markdown",
   "metadata": {},
   "source": [
    "# Project : Spy Games\n",
    "\n",
    "## Problem Statement :- \n",
    "\n",
    "Hello lieutenant! It's with an emergency that our agency wishes to use the skills that we learned in 'python intermediate' module. Our mission if we choose to accept it, would be to help us decipher a message that we received from our intel. We have multiple text files that need to be read and have certain operations performed to get our final message.\n",
    "\n",
    "Good luck. The fate of humanity lies in Our hands."
   ]
  },
  {
   "cell_type": "markdown",
   "metadata": {},
   "source": [
    "After completing this project, we will have a better understanding of solving logical problems using python. In this project, we will be applying the following concepts:\n",
    "\n",
    "- String operations\n",
    "- Conditional statement and loops\n",
    "- File I/O\n",
    "- Functions"
   ]
  },
  {
   "cell_type": "markdown",
   "metadata": {},
   "source": [
    "### __*Step 1*__ :- __Message Reading__"
   ]
  },
  {
   "cell_type": "markdown",
   "metadata": {},
   "source": [
    "The first thing you have to do is to write a function that reads the contents of the files that we have."
   ]
  },
  {
   "cell_type": "code",
   "execution_count": 1,
   "metadata": {},
   "outputs": [
    {
     "name": "stdout",
     "output_type": "stream",
     "text": [
      "This is a sample message.\n"
     ]
    }
   ],
   "source": [
    "# The path for file has been stored in a variable file_path\n",
    "file_path = \"C:/Users/saikr/GreyAtom Projects For Github/Handling Program Flow in Python/Sample.txt\"\n",
    "\n",
    "# Create a function \"read_file()\" that takes 'path' as a parameter.\n",
    "def read_file(path):\n",
    "    # Opens the file associated with the 'path' in the read-only mode ('r') and store it in a variable file\n",
    "    file = open(path, \"r\")\n",
    "    # Reads the content(first line) of the file and stores it in a variable called 'sentence'\n",
    "    sentence = file.readline()\n",
    "    # Closes the file\n",
    "    file.close()\n",
    "    # Returns 'sentence'\n",
    "    return sentence\n",
    "\n",
    "# Call the function \"read_file()\" with 'file_path' as input parameter and store the result in a variable called 'sample_message'\n",
    "sample_message = read_file(file_path)\n",
    "\n",
    "# Print the 'sample_message'\n",
    "print(sample_message)"
   ]
  },
  {
   "cell_type": "markdown",
   "metadata": {},
   "source": [
    "### __*Step 2*__ :- __Message Fusion__"
   ]
  },
  {
   "cell_type": "markdown",
   "metadata": {},
   "source": [
    "In this task, we have to make use of messages of two different files. In the two files, we have one number each. we have to apply a certain operation to extract our message."
   ]
  },
  {
   "cell_type": "code",
   "execution_count": 7,
   "metadata": {},
   "outputs": [
    {
     "name": "stdout",
     "output_type": "stream",
     "text": [
      "Message in Text File M1 is : 2222\n",
      "Message in Text File M2 is : 2477\n",
      "--------------------------------------------------------------------------------\n",
      "Secret Message from File 1 and File 2 is : 1\n"
     ]
    }
   ],
   "source": [
    "# Path for the two files that we will require for this task has been stored in variables file_path_1 and file_path_2\n",
    "file_path_1 = \"C:/Users/saikr/GreyAtom Projects For Github/Handling Program Flow in Python/M1.txt\"\n",
    "file_path_2 = \"C:/Users/saikr/GreyAtom Projects For Github/Handling Program Flow in Python/M2.txt\"\n",
    "\n",
    "#Call the function read_file() written in the previous task for file_path_1 & file_path_2 and store their message sentences in variables message_1 and message_2 respectively.\n",
    "# Print message_1 and message_2 to see what they contain.\n",
    "message_1 = read_file(file_path_1)\n",
    "print(f'Message in Text File M1 is : {message_1}')\n",
    "message_2 = read_file(file_path_2)\n",
    "print(f'Message in Text File M2 is : {message_2}')\n",
    "\n",
    "# Create a function fuse_msg() that takes message_a and message_b as parameters\n",
    "def fuse_msg(message_a, message_b):\n",
    "    # Implements integer(floor) division of message_b over message_a(Don't forget to make messages as int before applying floor division) and stores the quotient in a variable called quotient\n",
    "    quotient = int(message_b)//int(message_a)\n",
    "    # Returns quotient in string format\n",
    "    return str(quotient)\n",
    "\n",
    "# Call the function fuse_msg() with message_1 & message_2 and store the result of it in a variable called secret_msg_1\n",
    "secret_msg_1 = fuse_msg(message_1,message_2)\n",
    "print(\"--\"*40)\n",
    "print(f'Secret Message from File 1 and File 2 is : {secret_msg_1}')"
   ]
  },
  {
   "cell_type": "markdown",
   "metadata": {},
   "source": [
    "### __*Step 3*__ :- __Message Substitution__"
   ]
  },
  {
   "cell_type": "markdown",
   "metadata": {},
   "source": [
    "In this task, we have to substitute the message of the file for a secret message."
   ]
  },
  {
   "cell_type": "code",
   "execution_count": 8,
   "metadata": {},
   "outputs": [
    {
     "name": "stdout",
     "output_type": "stream",
     "text": [
      "Message in Text File M3 is : Green\n",
      "--------------------------------------------------------------------------------\n",
      "Secret Message from File 3: Data Scientist\n"
     ]
    }
   ],
   "source": [
    "# Path for the file that we will require for this task has been stored in variables file_path_3\n",
    "file_path_3 = \"C:/Users/saikr/GreyAtom Projects For Github/Handling Program Flow in Python/M3.txt\"\n",
    "\n",
    "# Call the function read_file() for file_path_3 and store its message sentences in variables message_3\n",
    "message_3 = read_file(file_path_3)\n",
    "\n",
    "# Print message_3 to see what it contains.\n",
    "print(f'Message in Text File M3 is : {message_3}')\n",
    "\n",
    "# Create a function substitute_msg() that takes message_c as a parameter \n",
    "def substitute_msg(message_c):\n",
    "    # Creates a new variable 'sub' and in it stores:\n",
    "    #'Army General' if message_c is 'Red'\n",
    "    if message_c == \"Red\":\n",
    "        sub = \"Army General\"\n",
    "    #'Data Scientist' if message_c is 'Green'\n",
    "    elif message_c == \"Green\":\n",
    "        sub = \"Data Scientist\"\n",
    "     #'Marine Biologist' if message_c is 'Blue'\n",
    "    else:\n",
    "        sub = \"Marine Biologist\"\n",
    "    # Returns 'sub'\n",
    "    return sub\n",
    "\n",
    "# Call the function \"substitute_msg()\" with 'message_3' and store the result of it in a variable called 'secret_msg_2'\n",
    "secret_msg_2 = substitute_msg(message_3)\n",
    "print(\"--\"*40)\n",
    "print(f'Secret Message from File 3: {secret_msg_2}')"
   ]
  },
  {
   "cell_type": "markdown",
   "metadata": {},
   "source": [
    "### __*Step 4*__ :- __Message Comparision__"
   ]
  },
  {
   "cell_type": "markdown",
   "metadata": {},
   "source": [
    "In this task, we have to make use of messages from two different files. We have to compare the two messages and take only those words that appear in first message but not in second message."
   ]
  },
  {
   "cell_type": "code",
   "execution_count": 9,
   "metadata": {},
   "outputs": [
    {
     "name": "stdout",
     "output_type": "stream",
     "text": [
      "Message in Text File M4 is : I hope you are good now\n",
      "Message in Text File M5 is : I hope good things happen in your life.\n",
      "--------------------------------------------------------------------------------\n",
      "Secret Message from File 4 and File 5 is : you are now\n"
     ]
    }
   ],
   "source": [
    "# Path for the two files that we will require for this task has been stored in variables file_path_4 and file_path_5\n",
    "file_path_4 = \"C:/Users/saikr/GreyAtom Projects For Github/Handling Program Flow in Python/M4.txt\"\n",
    "file_path_5 = \"C:/Users/saikr/GreyAtom Projects For Github/Handling Program Flow in Python/M5.txt\"\n",
    "\n",
    "# Call the function read_file() for file_path_4 & file_path_5 and store their message sentences in variables message_4 and message_5 respectively\n",
    "message_4 = read_file(file_path_4)\n",
    "message_5 = read_file(file_path_5)\n",
    "\n",
    "# Print message_4 and message_5 to see what they contain.\n",
    "print(f'Message in Text File M4 is : {message_4}')\n",
    "print(f'Message in Text File M5 is : {message_5}')\n",
    "\n",
    "# Create a function compare_msg() that takes message_d and message_e as a parameter \n",
    "def compare_msg(message_d, message_e):\n",
    "    #Breaks down the sentences in message_d & message_e into words using split() function\n",
    "    #stores them in a_list & b_list respectively\n",
    "    a_list = list(message_d.split())\n",
    "    b_list = list(message_e.split())\n",
    "    # Stores all the words that are there in a_list but not in b_list in a new list called c_list\n",
    "    c_list = list([i for i in a_list if not i in b_list])\n",
    "    # Combines the words of c_list back to a sentence using join() and stores it in a variable called final_msg and returns it\n",
    "    final_msg = \" \".join(c_list)\n",
    "    # return final_msg\n",
    "    return final_msg\n",
    "\n",
    "# Call the function \"compare_msg()\" with 'message_4' & 'message_5' and store the result of it in a variable called 'secret_msg_3'\n",
    "secret_msg_3 = compare_msg(message_4, message_5)\n",
    "print(\"--\"*40)\n",
    "print(f'Secret Message from File 4 and File 5 is : {secret_msg_3}')"
   ]
  },
  {
   "cell_type": "markdown",
   "metadata": {},
   "source": [
    "### __*Step 5*__ :- __Message Filter__"
   ]
  },
  {
   "cell_type": "markdown",
   "metadata": {},
   "source": [
    "In this task, we have to extract only those words from the message in the file that are of even length."
   ]
  },
  {
   "cell_type": "code",
   "execution_count": 11,
   "metadata": {},
   "outputs": [
    {
     "name": "stdout",
     "output_type": "stream",
     "text": [
      "Message in Text File M6 is : The man was one step closer towards his quest to become a spy\n",
      "----------------------------------------------------------------------------------------------------\n",
      "Secret Message from File 6 : step closer to become\n"
     ]
    }
   ],
   "source": [
    "# Path for the file that you will require for this task has been stored in variables file_path_6\n",
    "file_path_6 = \"C:/Users/saikr/GreyAtom Projects For Github/Handling Program Flow in Python/M6.txt\"\n",
    "\n",
    "# Call the function read_file() for file_path_6 and store its message sentence in variables message_6\n",
    "message_6 = read_file(file_path_6)\n",
    "\n",
    "# Print message_6 to see what it contains.\n",
    "print(f'Message in Text File M6 is : {message_6}')\n",
    "\n",
    "# Create a function extract_msg() that takes message_f as a parameter\n",
    "def extract_msg(message_f):\n",
    "    # Breaks down the sentence in message_f into words and stores them in a_list\n",
    "    a_list = list(message_f.split())\n",
    "    # Creates a lambda function called even_word with the condition that will return true if length of x (lambda function variable) is even\n",
    "    even_word = lambda x : len(x)%2==0\n",
    "    # Implements filter() function with function parameter as even_word and sequence parameter as a_list and stores the result of it in a variable called b_list\n",
    "    b_list = list(filter(even_word, a_list))\n",
    "    # Combines the words of b_list back to a sentence and stores it in a variable called final_msg and returns it    \n",
    "    final_msg = \" \".join(b_list)\n",
    "    # returns final_msg\n",
    "    return final_msg\n",
    "\n",
    "# Call the function \"extract_msg()\" with 'message_6' and store the result of it in a variable called 'secret_msg_4'\n",
    "secret_msg_4 = str(extract_msg(message_6))\n",
    "print(\"--\"*50)\n",
    "print(f'Secret Message from File 6 : {secret_msg_4}')"
   ]
  },
  {
   "cell_type": "markdown",
   "metadata": {},
   "source": [
    "### __*Step 6*__ :- __Message Writing__"
   ]
  },
  {
   "cell_type": "markdown",
   "metadata": {},
   "source": [
    "Congrats lieutenant, we have successfully deciphered all the message bits that we received. In this final task, we will combine all the message bits into a single message and write it in a file."
   ]
  },
  {
   "cell_type": "code",
   "execution_count": 13,
   "metadata": {},
   "outputs": [
    {
     "name": "stdout",
     "output_type": "stream",
     "text": [
      "you are now 1 step closer to become Data Scientist\n"
     ]
    }
   ],
   "source": [
    "#The message parts that you deciphered have been provided to you in the order that they have to be read, in a list called message_parts.\n",
    "#Secret message parts in the correct order\n",
    "message_parts=[secret_msg_3, secret_msg_1, secret_msg_4, secret_msg_2]\n",
    "\n",
    "# Combine the contents of message_parts into a single sentence and store it in a variable called secret_msg\n",
    "\n",
    "# Creating a text file for writing the diciphered message\n",
    "final_path= 'C:/Users/saikr/GreyAtom Projects For Github/Handling Program Flow in Python' + '/secret_message.txt'\n",
    "\n",
    "# Create  a function write_file() that takes secret_msg and path as parameters\n",
    "def write_file(secret_msg, path):\n",
    "    # Open the file mentioned in the path in a+ ( a+ : Opens a file for both appending and reading ) mode\n",
    "    file = open(path, \"a+\")\n",
    "    # Writes the content of the secret_msg in the above opened file\n",
    "    file.writelines(secret_msg)\n",
    "    # Closes the file\n",
    "    file.close()\n",
    "\n",
    "# Call the function \"write_file()\" with 'secret_msg' and 'final_path'\n",
    "write_file(message_parts, final_path)\n",
    "\n",
    "# Print the content of the 'secret_msg' so you can also see the message\n",
    "secret_msg = \" \".join(message_parts)\n",
    "print(secret_msg)\n"
   ]
  }
 ],
 "metadata": {
  "kernelspec": {
   "display_name": "Python 3",
   "language": "python",
   "name": "python3"
  },
  "language_info": {
   "codemirror_mode": {
    "name": "ipython",
    "version": 3
   },
   "file_extension": ".py",
   "mimetype": "text/x-python",
   "name": "python",
   "nbconvert_exporter": "python",
   "pygments_lexer": "ipython3",
   "version": "3.7.0"
  }
 },
 "nbformat": 4,
 "nbformat_minor": 2
}
