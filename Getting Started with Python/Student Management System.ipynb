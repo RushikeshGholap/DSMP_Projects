{
 "cells": [
  {
   "cell_type": "markdown",
   "metadata": {},
   "source": [
    "# Student Management System\n",
    "## Problem Statement\n",
    "You have been hired by the University of Data Science to manage their students' records. Your job is to create the student management system for the university. Let's try to build the system using basic Python operations.\n",
    "\n",
    "## Why solve this project?\n",
    "After completing this project, you will get to know how to solve basic Python problems. In this project, you will be applying the following concepts:\n",
    "\n",
    "Mathematical operations\n",
    "List operations\n",
    "Dictionary operations\n",
    "String indexing and formatting"
   ]
  },
  {
   "cell_type": "markdown",
   "metadata": {},
   "source": [
    "### __*Step 1*__ :  Prepare the Student Roster\n",
    "Let's create a new register by combining data from two classes while making some modifications to the register."
   ]
  },
  {
   "cell_type": "code",
   "execution_count": 1,
   "metadata": {},
   "outputs": [
    {
     "name": "stdout",
     "output_type": "stream",
     "text": [
      "['Geoffrey Hinton', 'Andrew Ng', 'Sebastian Raschka', 'Yoshua Bengio', 'Hilary Mason', 'Carla Gentry', 'Corinna Cortes']\n",
      "['Geoffrey Hinton', 'Andrew Ng', 'Sebastian Raschka', 'Yoshua Bengio', 'Hilary Mason', 'Carla Gentry', 'Corinna Cortes', 'Peter Warden']\n",
      "['Geoffrey Hinton', 'Andrew Ng', 'Sebastian Raschka', 'Yoshua Bengio', 'Hilary Mason', 'Corinna Cortes', 'Peter Warden']\n"
     ]
    }
   ],
   "source": [
    "class_1=['Geoffrey Hinton','Andrew Ng','Sebastian Raschka','Yoshua Bengio']\n",
    "class_2=['Hilary Mason','Carla Gentry','Corinna Cortes']\n",
    "new_class=class_1+class_2\n",
    "print(new_class)\n",
    "new_class.append(\"Peter Warden\")\n",
    "print(new_class)\n",
    "new_class.remove('Carla Gentry')\n",
    "print(new_class)"
   ]
  },
  {
   "cell_type": "markdown",
   "metadata": {},
   "source": [
    "Result : Data is created with names , tested appending and removing through list"
   ]
  },
  {
   "cell_type": "markdown",
   "metadata": {},
   "source": [
    "### __*Step 2*__ : Grade Please!\n",
    "Let's create a dictionary for Geoffrey Hinton in each subject to generate his progress report.\n"
   ]
  },
  {
   "cell_type": "code",
   "execution_count": 7,
   "metadata": {},
   "outputs": [
    {
     "name": "stdout",
     "output_type": "stream",
     "text": [
      "Total Marks Obtained is : 345\n",
      "Percentage obtained is : 69.0\n"
     ]
    }
   ],
   "source": [
    "\n",
    "courses={'Math':65,'English':70,'History':80,'French':70,'Science':60}\n",
    "\n",
    "\n",
    "# Slice the dict and stores  the all subjects marks in variable\n",
    "\n",
    "math = courses['Math']\n",
    "english = courses['English']\n",
    "history = courses['History']\n",
    "french = courses['French']\n",
    "science = courses['Science']\n",
    "\n",
    "# Store the all the subject in one variable `Total`\n",
    "total = math + english + history + french + science\n",
    "\n",
    "# Print the total\n",
    "print (f\"Total Marks Obtained is : {total}\")\n",
    "\n",
    "# Insert percentage formula\n",
    "percentage = (total * 100 / 500)\n",
    "\n",
    "# Print the percentage\n",
    "print(f\"Percentage obtained is : {percentage}\")"
   ]
  },
  {
   "cell_type": "markdown",
   "metadata": {},
   "source": [
    "Result : dictionary for Geoffrey Hinton was created , Calculate Percentage"
   ]
  },
  {
   "cell_type": "markdown",
   "metadata": {},
   "source": [
    "### __*Step 3*__: Kudos to the Math Genius!\n",
    "For the student who got the highest marks in this subject, the school has decided to award a scholarship. Let's check who performed best in mathematics from all the students who appeared for the test."
   ]
  },
  {
   "cell_type": "code",
   "execution_count": 8,
   "metadata": {},
   "outputs": [
    {
     "name": "stdout",
     "output_type": "stream",
     "text": [
      "Topper of Mathematics is : Andrew Ng\n"
     ]
    }
   ],
   "source": [
    "# Create the Dictionary\n",
    "mathematics = {'Andrew Ng':95, 'Geoffrey Hinton': 78, 'Sebastian Raschka': 65, 'Yoshua Benjio':50, 'Hilary Mason':70, 'Cortinna Cortes':66, 'Peter Warden':75 }\n",
    " \n",
    "topper = max(mathematics,key = mathematics.get)\n",
    "print(f\"Topper of Mathematics is : {topper}\")\n"
   ]
  },
  {
   "cell_type": "markdown",
   "metadata": {},
   "source": [
    "Result : Topper in mathematics subject was identified "
   ]
  },
  {
   "cell_type": "markdown",
   "metadata": {},
   "source": [
    "### __*Step 4*__: Scholarship Certificate\n",
    "From the previous task, we know who is the 'Maths' topper in the class. You now have to print the name of the student on the certificate, but you will have to print his last name and then his first name.\n"
   ]
  },
  {
   "cell_type": "code",
   "execution_count": 4,
   "metadata": {},
   "outputs": [
    {
     "name": "stdout",
     "output_type": "stream",
     "text": [
      "andrew\n",
      "ng\n",
      "ng andrew\n",
      "--------------------------------------------------------------------------------\n",
      "NG ANDREW\n"
     ]
    }
   ],
   "source": [
    "topper = 'andrew ng'\n",
    "\n",
    "\n",
    "# Code starts here\n",
    "\n",
    "\n",
    "# Create variable first_name \n",
    "first_name = (topper.split()[0])\n",
    "print (f\"First Name is : {first_name}\")\n",
    "\n",
    "# Create variable Last_name and store last two element in the list\n",
    "last_name = (topper.split()[1])\n",
    "print (f\"Last Name is : {LookupError}\")\n",
    "\n",
    "# Concatenate the string\n",
    "full_name = last_name + ' ' + first_name\n",
    "\n",
    "# print the full_name\n",
    "print (full_name)\n",
    "\n",
    "print(\"--\"*40)\n",
    "\n",
    "# print the name in upper case\n",
    "certificate_name = full_name.upper()\n",
    "\n",
    "print (certificate_name)\n"
   ]
  },
  {
   "cell_type": "markdown",
   "metadata": {},
   "source": [
    "Result : Created Certificated with Last Name and First Name"
   ]
  }
 ],
 "metadata": {
  "kernelspec": {
   "display_name": "Python 3",
   "language": "python",
   "name": "python3"
  },
  "language_info": {
   "codemirror_mode": {
    "name": "ipython",
    "version": 3
   },
   "file_extension": ".py",
   "mimetype": "text/x-python",
   "name": "python",
   "nbconvert_exporter": "python",
   "pygments_lexer": "ipython3",
   "version": "3.7.0"
  }
 },
 "nbformat": 4,
 "nbformat_minor": 2
}
