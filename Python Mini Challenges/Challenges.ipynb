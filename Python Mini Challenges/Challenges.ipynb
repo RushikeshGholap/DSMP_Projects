{
 "cells": [
  {
   "cell_type": "markdown",
   "metadata": {},
   "source": [
    "# Mini Challenge :- 1"
   ]
  },
  {
   "cell_type": "markdown",
   "metadata": {},
   "source": [
    "## Smallest Palindrome"
   ]
  },
  {
   "cell_type": "markdown",
   "metadata": {},
   "source": [
    "Create a function called palindrome(num) that given a number 'num', finds the next smallest palindrome and returns it\n",
    "\n",
    "__Note__ : A palindrome is a word, number, phrase, or other sequence of characters which reads the same backward as forward, such as madam or racecar or the number 10201."
   ]
  },
  {
   "cell_type": "markdown",
   "metadata": {},
   "source": [
    "For e.g :-"
   ]
  },
  {
   "cell_type": "markdown",
   "metadata": {},
   "source": [
    "\n",
    "__Input__:\n",
    "palindrome(123)\n",
    "\n",
    "__Output__:\n",
    "131"
   ]
  },
  {
   "cell_type": "code",
   "execution_count": 1,
   "metadata": {},
   "outputs": [
    {
     "name": "stdout",
     "output_type": "stream",
     "text": [
      "Palindrome of number 123 is : 131\n",
      "Palindrome of number 1331 is : 1441\n"
     ]
    }
   ],
   "source": [
    "def palindrome(num):\n",
    "    num += 1\n",
    "    while (str(num) != str(num)[::-1]):\n",
    "        num += 1\n",
    "    return num\n",
    "\n",
    "print(f\"Palindrome of number 123 is : {palindrome(123)}\")\n",
    "\n",
    "print(f\"Palindrome of number 1331 is : {palindrome(1331)}\")"
   ]
  },
  {
   "cell_type": "markdown",
   "metadata": {},
   "source": [
    "# Mini Challenge :- 2"
   ]
  },
  {
   "cell_type": "markdown",
   "metadata": {},
   "source": [
    "## Anagram Scramble"
   ]
  },
  {
   "cell_type": "markdown",
   "metadata": {},
   "source": [
    "Create a function called 'a_scramble(str_1, str_2)' that given the strings'str_1','str_2' returns True if a portion of 'str_1' characters can be scrambled to match 'str2', else return False\n",
    "\n",
    "For eg:"
   ]
  },
  {
   "cell_type": "markdown",
   "metadata": {},
   "source": [
    "__Input__ :- a_scramble(\"Tom Marvolo Riddle\",\"Voldemort\")\n",
    "\n",
    "__Output__ :- __*True*__\n",
    "\n",
    "__Input__ :- a_scramble(\"ticket\",\"chat\")\n",
    "\n",
    "__Output__ :- __*False*__"
   ]
  },
  {
   "cell_type": "code",
   "execution_count": 2,
   "metadata": {},
   "outputs": [
    {
     "name": "stdout",
     "output_type": "stream",
     "text": [
      "True\n",
      "False\n",
      "False\n"
     ]
    }
   ],
   "source": [
    "def a_scramble(str_1, str_2):\n",
    "    str_1, str_2 = str_1.lower(), str_2.lower()\n",
    "    str_1_list = list(str_1)\n",
    "    for i in range(len(str_2)):\n",
    "        if(str_2[i] not in str_1_list):\n",
    "            return False\n",
    "        else:\n",
    "            str_1_list.remove(str_2[i])\n",
    "    return True\n",
    "print(a_scramble(\"Tom Marvolo Riddle\",\"Voldemort\"))\n",
    "\n",
    "print(a_scramble(\"ticket\",\"chat\"))\n",
    "\n",
    "print(a_scramble(\"baby shower\",\"shows\"))"
   ]
  },
  {
   "cell_type": "markdown",
   "metadata": {},
   "source": [
    "# Mini Challenge :- 3"
   ]
  },
  {
   "cell_type": "markdown",
   "metadata": {},
   "source": [
    "##  Fibonacci Check"
   ]
  },
  {
   "cell_type": "markdown",
   "metadata": {},
   "source": [
    "Create a function called check_fib(num) that checks if the given number 'num' is part of the fibonacci sequence and returns True if it is, else False\n",
    "\n",
    "For eg :-"
   ]
  },
  {
   "cell_type": "markdown",
   "metadata": {},
   "source": [
    "__Input__ :- check_fib(145)\n",
    "\n",
    "__Output__ :- __*False*__\n",
    "\n",
    "__Input__ :- check_fib(377)\n",
    "\n",
    "__Output__ :- __*True*__"
   ]
  },
  {
   "cell_type": "code",
   "execution_count": 3,
   "metadata": {},
   "outputs": [
    {
     "name": "stdout",
     "output_type": "stream",
     "text": [
      "False\n",
      "True\n"
     ]
    }
   ],
   "source": [
    "def check_fib(num):\n",
    "    num_1, num_2 = 0, 1\n",
    "    while(num_2 < num):\n",
    "        sum = num_1 + num_2\n",
    "        num_1 = num_2\n",
    "        num_2 = sum\n",
    "        if(num_2 == num):\n",
    "            return True\n",
    "    return False\n",
    "\n",
    "print(check_fib(145))\n",
    "\n",
    "print(check_fib(377))"
   ]
  },
  {
   "cell_type": "markdown",
   "metadata": {},
   "source": [
    "# Mini Challenge :- 4"
   ]
  },
  {
   "cell_type": "markdown",
   "metadata": {},
   "source": [
    "## String Compression"
   ]
  },
  {
   "cell_type": "markdown",
   "metadata": {},
   "source": [
    "Write a function compress(word) that given a word word returns the string with it's letters and how many times they occur continously together.\n",
    "\n",
    "For eg :- "
   ]
  },
  {
   "cell_type": "markdown",
   "metadata": {},
   "source": [
    "__Input__ :- compress(\"abbs\")\n",
    "\n",
    "__Output__ :- \"a1b2s1\"\n",
    "\n",
    "__Explanation__ : 1 occurence of a, followed by 2 occurences of b, followed by 1 occurence of s \n",
    "\n",
    "__Input__ :- compress(\"xxcccdex\")\n",
    "\n",
    "__Output__ :- \"x2c3d1e1x1\"\n",
    "\n",
    "__Explanation__ : 2 occurences of x, followed by 3 occurences of c, followed by 1 occurence of d, followed by 1 occurence of e, followed by 1 occurence of x"
   ]
  },
  {
   "cell_type": "code",
   "execution_count": 4,
   "metadata": {},
   "outputs": [
    {
     "name": "stdout",
     "output_type": "stream",
     "text": [
      "abbs\n",
      "a1b2s1\n",
      "--------------------------------------------------------------------------------\n",
      "xxcccdex\n",
      "x2c3d1e1x1\n",
      "--------------------------------------------------------------------------------\n",
      "ss\n",
      "s2\n"
     ]
    }
   ],
   "source": [
    "def compress(word):\n",
    "    word = word.lower()\n",
    "    print(word)\n",
    "    com_word = list(word[0])\n",
    "    count = 1\n",
    "    for i in range(1,len(word)):\n",
    "        if com_word[-1] == word[i]:\n",
    "            count +=1\n",
    "            if(i == len(word)-1):\n",
    "                com_word.append(count)\n",
    "        else:\n",
    "            com_word.append(count)\n",
    "            com_word.append(word[i])\n",
    "            count = 1\n",
    "    if(type(com_word[-1]) == str):\n",
    "        com_word.append(1)\n",
    "    return ''.join([str(elem) for elem in com_word ])\n",
    "    \n",
    "print(compress(\"abbs\"))\n",
    "\n",
    "print(\"--\"*40)\n",
    "\n",
    "print(compress(\"xxcccdex\"))\n",
    "\n",
    "print(\"--\"*40)\n",
    "\n",
    "print(compress('Ss'))"
   ]
  },
  {
   "cell_type": "markdown",
   "metadata": {},
   "source": [
    "# Mini Challenge :- 5"
   ]
  },
  {
   "cell_type": "markdown",
   "metadata": {},
   "source": [
    "## K-Distinct"
   ]
  },
  {
   "cell_type": "markdown",
   "metadata": {},
   "source": [
    "Write a function k_distinct(string,k) that given a string 'string' and number 'k', it checks whether the 'string' has 'k' distinct characters.\n",
    "\n",
    "For e.g :-"
   ]
  },
  {
   "cell_type": "markdown",
   "metadata": {},
   "source": [
    "__Input__ :- k_distinct('Messoptamia',8)\n",
    "\n",
    "__Output__ :- True\n",
    "\n",
    "__Input__ :- k_distinct('banana',4)\n",
    "\n",
    "__Output__ :- False"
   ]
  },
  {
   "cell_type": "code",
   "execution_count": 5,
   "metadata": {},
   "outputs": [
    {
     "name": "stdout",
     "output_type": "stream",
     "text": [
      "False\n"
     ]
    }
   ],
   "source": [
    "def k_distinct(string,k):\n",
    "    if (len(set(string.lower())) == k):\n",
    "        return True\n",
    "    else:\n",
    "        return False\n",
    "\n",
    "res = k_distinct('abbbbbb',4)\n",
    "print(res)"
   ]
  }
 ],
 "metadata": {
  "kernelspec": {
   "display_name": "Python 3",
   "language": "python",
   "name": "python3"
  },
  "language_info": {
   "codemirror_mode": {
    "name": "ipython",
    "version": 3
   },
   "file_extension": ".py",
   "mimetype": "text/x-python",
   "name": "python",
   "nbconvert_exporter": "python",
   "pygments_lexer": "ipython3",
   "version": "3.7.0"
  }
 },
 "nbformat": 4,
 "nbformat_minor": 2
}
