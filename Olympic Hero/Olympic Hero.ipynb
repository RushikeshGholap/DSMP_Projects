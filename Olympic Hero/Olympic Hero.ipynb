{
 "cells": [
  {
   "attachments": {},
   "cell_type": "markdown",
   "metadata": {},
   "source": [
    "# Olympic Hero\n",
    "\n",
    "## Problem Statement\n",
    "\n",
    "The Olympic Games, considered to be the world's foremost sports competition has more than 200 nations participating across the Summer and Winter Games alternating by occurring every four years but two years apart.\n",
    "\n",
    "Throughout this project, we will explore the Olympics dataset(scraped from https://en.wikipedia.org/wiki/All-time_Olympic_Games_medal_table) , look at some interesting statistics and then try to find out which country is the King of Olympic Games.\n",
    "\n",
    "## About the dataset\n",
    "The snapshot of the data, you will be working on:\n",
    "\n",
    "OlympicsData\n",
    "\n",
    "<img src=\"snapshot.png\">\n",
    "\n",
    "The dataset has details of 146 countries with following 16 features\n",
    "\n",
    "<img src=\"Description.png\">\n",
    "\n",
    "## Why solve this project?\n",
    "\n",
    "After completing this project, you will have a better understanding of data handling with python(pandas). In this project, you will be applying the following concepts :\n",
    "\n",
    "- Dataframe operations\n",
    "- Conditional statement and loops\n",
    "- List operations\n",
    "- Bar Plotting\n",
    "- Mathematical operations"
   ]
  },
  {
   "cell_type": "markdown",
   "metadata": {},
   "source": [
    "## Step 1 : Data Loading\n",
    "Let's start with the simple task of loading the data and do a little bit of renaming."
   ]
  },
  {
   "cell_type": "code",
   "execution_count": 1,
   "metadata": {},
   "outputs": [
    {
     "data": {
      "text/html": [
       "<div>\n",
       "<style scoped>\n",
       "    .dataframe tbody tr th:only-of-type {\n",
       "        vertical-align: middle;\n",
       "    }\n",
       "\n",
       "    .dataframe tbody tr th {\n",
       "        vertical-align: top;\n",
       "    }\n",
       "\n",
       "    .dataframe thead th {\n",
       "        text-align: right;\n",
       "    }\n",
       "</style>\n",
       "<table border=\"1\" class=\"dataframe\">\n",
       "  <thead>\n",
       "    <tr style=\"text-align: right;\">\n",
       "      <th></th>\n",
       "      <th>Country_Name</th>\n",
       "      <th># Summer</th>\n",
       "      <th>Gold_Summer</th>\n",
       "      <th>Silver_Summer</th>\n",
       "      <th>Bronze_Summer</th>\n",
       "      <th>Total_Summer</th>\n",
       "      <th># Winter</th>\n",
       "      <th>Gold_Winter</th>\n",
       "      <th>Silver_Winter</th>\n",
       "      <th>Bronze_Winter</th>\n",
       "      <th>Total_Winter</th>\n",
       "      <th># Games</th>\n",
       "      <th>Gold_Total</th>\n",
       "      <th>Silver_Total</th>\n",
       "      <th>Bronze_Total</th>\n",
       "      <th>Total_Medals</th>\n",
       "    </tr>\n",
       "  </thead>\n",
       "  <tbody>\n",
       "    <tr>\n",
       "      <th>0</th>\n",
       "      <td>Afghanistan</td>\n",
       "      <td>13</td>\n",
       "      <td>0</td>\n",
       "      <td>0</td>\n",
       "      <td>2</td>\n",
       "      <td>2</td>\n",
       "      <td>0</td>\n",
       "      <td>0</td>\n",
       "      <td>0</td>\n",
       "      <td>0</td>\n",
       "      <td>0</td>\n",
       "      <td>13</td>\n",
       "      <td>0</td>\n",
       "      <td>0</td>\n",
       "      <td>2</td>\n",
       "      <td>2</td>\n",
       "    </tr>\n",
       "    <tr>\n",
       "      <th>1</th>\n",
       "      <td>Algeria</td>\n",
       "      <td>12</td>\n",
       "      <td>5</td>\n",
       "      <td>2</td>\n",
       "      <td>8</td>\n",
       "      <td>15</td>\n",
       "      <td>3</td>\n",
       "      <td>0</td>\n",
       "      <td>0</td>\n",
       "      <td>0</td>\n",
       "      <td>0</td>\n",
       "      <td>15</td>\n",
       "      <td>5</td>\n",
       "      <td>2</td>\n",
       "      <td>8</td>\n",
       "      <td>15</td>\n",
       "    </tr>\n",
       "    <tr>\n",
       "      <th>2</th>\n",
       "      <td>Argentina</td>\n",
       "      <td>23</td>\n",
       "      <td>18</td>\n",
       "      <td>24</td>\n",
       "      <td>28</td>\n",
       "      <td>70</td>\n",
       "      <td>18</td>\n",
       "      <td>0</td>\n",
       "      <td>0</td>\n",
       "      <td>0</td>\n",
       "      <td>0</td>\n",
       "      <td>41</td>\n",
       "      <td>18</td>\n",
       "      <td>24</td>\n",
       "      <td>28</td>\n",
       "      <td>70</td>\n",
       "    </tr>\n",
       "    <tr>\n",
       "      <th>3</th>\n",
       "      <td>Armenia</td>\n",
       "      <td>5</td>\n",
       "      <td>1</td>\n",
       "      <td>2</td>\n",
       "      <td>9</td>\n",
       "      <td>12</td>\n",
       "      <td>6</td>\n",
       "      <td>0</td>\n",
       "      <td>0</td>\n",
       "      <td>0</td>\n",
       "      <td>0</td>\n",
       "      <td>11</td>\n",
       "      <td>1</td>\n",
       "      <td>2</td>\n",
       "      <td>9</td>\n",
       "      <td>12</td>\n",
       "    </tr>\n",
       "    <tr>\n",
       "      <th>4</th>\n",
       "      <td>Australasia</td>\n",
       "      <td>2</td>\n",
       "      <td>3</td>\n",
       "      <td>4</td>\n",
       "      <td>5</td>\n",
       "      <td>12</td>\n",
       "      <td>0</td>\n",
       "      <td>0</td>\n",
       "      <td>0</td>\n",
       "      <td>0</td>\n",
       "      <td>0</td>\n",
       "      <td>2</td>\n",
       "      <td>3</td>\n",
       "      <td>4</td>\n",
       "      <td>5</td>\n",
       "      <td>12</td>\n",
       "    </tr>\n",
       "  </tbody>\n",
       "</table>\n",
       "</div>"
      ],
      "text/plain": [
       "  Country_Name  # Summer  Gold_Summer  Silver_Summer  Bronze_Summer  \\\n",
       "0  Afghanistan        13            0              0              2   \n",
       "1      Algeria        12            5              2              8   \n",
       "2    Argentina        23           18             24             28   \n",
       "3      Armenia         5            1              2              9   \n",
       "4  Australasia         2            3              4              5   \n",
       "\n",
       "   Total_Summer  # Winter  Gold_Winter  Silver_Winter  Bronze_Winter  \\\n",
       "0             2         0            0              0              0   \n",
       "1            15         3            0              0              0   \n",
       "2            70        18            0              0              0   \n",
       "3            12         6            0              0              0   \n",
       "4            12         0            0              0              0   \n",
       "\n",
       "   Total_Winter  # Games  Gold_Total  Silver_Total  Bronze_Total  Total_Medals  \n",
       "0             0       13           0             0             2             2  \n",
       "1             0       15           5             2             8            15  \n",
       "2             0       41          18            24            28            70  \n",
       "3             0       11           1             2             9            12  \n",
       "4             0        2           3             4             5            12  "
      ]
     },
     "execution_count": 1,
     "metadata": {},
     "output_type": "execute_result"
    }
   ],
   "source": [
    "#Importing Packages\n",
    "import pandas as pd\n",
    "import numpy as np\n",
    "import matplotlib.pyplot as plt\n",
    "\n",
    "#Path of the file\n",
    "path = './file.csv'\n",
    "\n",
    "#Reading the file\n",
    "data=pd.read_csv(path)\n",
    "\n",
    "#Renaming a column\n",
    "data.rename(columns={'Total':'Total_Medals'},inplace=True)\n",
    "\n",
    "#Printing the first five columns\n",
    "data.head(5)"
   ]
  },
  {
   "cell_type": "markdown",
   "metadata": {},
   "source": [
    "Result : Here we can see top 5 rows "
   ]
  },
  {
   "cell_type": "markdown",
   "metadata": {},
   "source": [
    "## Step 2 : Summer or Winter\n",
    "Some Countries love Summer, some Winter. We think it has to do something with their Olympic performance.\n",
    "\n",
    "For this task we will try to figure out which olympic event does a country perform better in."
   ]
  },
  {
   "cell_type": "code",
   "execution_count": 2,
   "metadata": {},
   "outputs": [
    {
     "name": "stdout",
     "output_type": "stream",
     "text": [
      "Better_Event= Summer\n"
     ]
    }
   ],
   "source": [
    "#Creating new column 'Better_Event'\n",
    "data['Better_Event'] = np.where(data['Total_Summer'] > data['Total_Winter'] , 'Summer', 'Winter')\n",
    "data['Better_Event'] = np.where(data['Total_Summer'] == data['Total_Winter'] , 'Both', data['Better_Event'])\n",
    "\n",
    "#Finding the value with max count in 'Better_Event' column\n",
    "better_event=data['Better_Event'].value_counts().index.values[0]\n",
    "\n",
    "#Printing the better event\n",
    "print('Better_Event=', better_event)"
   ]
  },
  {
   "cell_type": "markdown",
   "metadata": {},
   "source": [
    "Result :  In summer, athletes perform well"
   ]
  },
  {
   "cell_type": "markdown",
   "metadata": {},
   "source": [
    "## Step 3 : Top 10\n",
    "So we figured out which is a better event for each country. Let's move on to finding out the best performing countries across all events"
   ]
  },
  {
   "cell_type": "code",
   "execution_count": 3,
   "metadata": {},
   "outputs": [
    {
     "name": "stdout",
     "output_type": "stream",
     "text": [
      "Top 10 Summer:\n",
      " ['United States', 'Soviet Union', 'Great Britain', 'France', 'Germany', 'Italy', 'Sweden', 'Hungary', 'China', 'Australia'] \n",
      "\n",
      "Top 10 Winter:\n",
      " ['Norway', 'United States', 'Austria', 'Germany', 'Soviet Union', 'Canada', 'Finland', 'Sweden', 'Switzerland', 'Russia'] \n",
      "\n",
      "Top 10:\n",
      " ['United States', 'Soviet Union', 'Great Britain', 'Germany', 'France', 'Italy', 'Sweden', 'China', 'East Germany', 'Russia'] \n",
      "\n",
      "Common Countries :\n",
      " ['United States', 'Germany', 'Soviet Union', 'Sweden'] \n",
      "\n"
     ]
    }
   ],
   "source": [
    "#Subsetting the dataframe\n",
    "top_countries=data[['Country_Name','Total_Summer', 'Total_Winter','Total_Medals']]\n",
    "\n",
    "#Dropping the last row\n",
    "top_countries=top_countries[:-1]\n",
    "\n",
    "#Function for top 10\n",
    "def top_ten(data, col):\n",
    "    \n",
    "    #Creating a new list\n",
    "    country_list=[]\n",
    "    \n",
    "    #Finding the top 10 values of 'col' column\n",
    "    country_list= list((data.nlargest(10,col)['Country_Name']))\n",
    "    \n",
    "    #Returning the top 10 list\n",
    "    return country_list\n",
    "\n",
    "#Calling the function for Top 10 in Summer\n",
    "top_10_summer=top_ten(top_countries,'Total_Summer')\n",
    "print(\"Top 10 Summer:\\n\",top_10_summer, \"\\n\")\n",
    "\n",
    "#Calling the function for Top 10 in Winter\n",
    "top_10_winter=top_ten(top_countries,'Total_Winter')\n",
    "print(\"Top 10 Winter:\\n\",top_10_winter, \"\\n\")\n",
    "\n",
    "#Calling the function for Top 10 in both the events\n",
    "top_10=top_ten(top_countries,'Total_Medals')\n",
    "print(\"Top 10:\\n\",top_10, \"\\n\")\n",
    "\n",
    "#Extracting common country names from all three lists\n",
    "common=list(set(top_10_summer) & set(top_10_winter) & set(top_10))\n",
    "\n",
    "print('Common Countries :\\n', common, \"\\n\")\n"
   ]
  },
  {
   "cell_type": "markdown",
   "metadata": {},
   "source": [
    "Result : The top 10 well performing countries "
   ]
  },
  {
   "cell_type": "markdown",
   "metadata": {},
   "source": [
    "## Step 4 : Plotting Top 10\n",
    "From the lists that you have created from the previous task, let's plot the medal count of the top 10 countries for better visualization\n"
   ]
  },
  {
   "cell_type": "code",
   "execution_count": 4,
   "metadata": {},
   "outputs": [
    {
     "data": {
      "image/png": "[encoded data removed]",
      "text/plain": [
       "<Figure size 1440x432 with 1 Axes>"
      ]
     },
     "metadata": {
      "needs_background": "light"
     },
     "output_type": "display_data"
    },
    {
     "data": {
      "image/png": "[encoded data removed]",
      "text/plain": [
       "<Figure size 1440x432 with 1 Axes>"
      ]
     },
     "metadata": {
      "needs_background": "light"
     },
     "output_type": "display_data"
    },
    {
     "data": {
      "image/png": "[encoded data removed]",
      "text/plain": [
       "<Figure size 1440x432 with 1 Axes>"
      ]
     },
     "metadata": {
      "needs_background": "light"
     },
     "output_type": "display_data"
    }
   ],
   "source": [
    "#For Summer\n",
    "\n",
    "#Creating the dataframe for Summer event\n",
    "summer_df= data[data['Country_Name'].isin(top_10_summer)]\n",
    "\n",
    "#Plotting the bar graph\n",
    "plt.figure(figsize=(20, 6))\n",
    "plt.bar(summer_df['Country_Name'], summer_df['Total_Summer'])\n",
    "\n",
    "#Changing the graph title\n",
    "plt.title('Top 10 Summer')\n",
    "\n",
    "#Changing the x-axis label\n",
    "plt.xlabel('Country Name')\n",
    "\n",
    "#Changing the y-axis label\n",
    "plt.ylabel('Total Medals')\n",
    "\n",
    "\n",
    "#For Winter\n",
    "\n",
    "#Creating the dataframe for Winter event\n",
    "winter_df=data[data['Country_Name'].isin(top_10_winter)]\n",
    "\n",
    "#Plotting the bar graph\n",
    "plt.figure(figsize=(20, 6))\n",
    "plt.bar(winter_df['Country_Name'], winter_df['Total_Winter'])\n",
    "\n",
    "#Changing the graph title\n",
    "plt.title('Top 10 Winter')\n",
    "\n",
    "#Changing the x-axis label\n",
    "plt.xlabel('Country Name')\n",
    "\n",
    "#Changing the y-axis label\n",
    "plt.ylabel('Total Medals')\n",
    "\n",
    "\n",
    "\n",
    "#For both the events\n",
    "\n",
    "#Creating the dataframe for both the events\n",
    "top_df=data[data['Country_Name'].isin(top_10)]\n",
    "\n",
    "#Plotting the bar graph\n",
    "plt.figure(figsize=(20, 6))\n",
    "plt.bar(top_df['Country_Name'], top_df['Total_Medals'])\n",
    "\n",
    "#Changing the graph title\n",
    "plt.title('Top 10')\n",
    "\n",
    "#Changing the x-axis label\n",
    "plt.xlabel('Country Name')\n",
    "\n",
    "#Changing the y-axis label\n",
    "plt.ylabel('Total Medals')\n",
    "\n",
    "plt.show()\n",
    "\n"
   ]
  },
  {
   "cell_type": "markdown",
   "metadata": {},
   "source": [
    "Result : Here are top 10 countries w.r.t winter ,Summer , & Total medals won"
   ]
  },
  {
   "cell_type": "markdown",
   "metadata": {},
   "source": [
    "## Step 5 : Top performing country(Gold)\n",
    "Winning silver or bronze medals is a big achievement but winning gold is bigger.\n",
    "\n",
    "Using the above created dataframe subsets, in this task let's find out which country has had the best performance with respect to the ratio between gold medals won and total medals won."
   ]
  },
  {
   "cell_type": "code",
   "execution_count": 5,
   "metadata": {},
   "outputs": [
    {
     "name": "stdout",
     "output_type": "stream",
     "text": [
      "Top Summer Country: China  with a ratio of 0.42\n",
      "Top Winter Country: Soviet Union  with a ratio of 0.40\n",
      "Top Country: China  with a ratio of 0.40\n"
     ]
    },
    {
     "name": "stderr",
     "output_type": "stream",
     "text": [
      "C:\\ProgramData\\Anaconda3\\lib\\site-packages\\ipykernel_launcher.py:4: SettingWithCopyWarning: \n",
      "A value is trying to be set on a copy of a slice from a DataFrame.\n",
      "Try using .loc[row_indexer,col_indexer] = value instead\n",
      "\n",
      "See the caveats in the documentation: http://pandas.pydata.org/pandas-docs/stable/user_guide/indexing.html#returning-a-view-versus-a-copy\n",
      "  after removing the cwd from sys.path.\n",
      "C:\\ProgramData\\Anaconda3\\lib\\site-packages\\ipykernel_launcher.py:18: SettingWithCopyWarning: \n",
      "A value is trying to be set on a copy of a slice from a DataFrame.\n",
      "Try using .loc[row_indexer,col_indexer] = value instead\n",
      "\n",
      "See the caveats in the documentation: http://pandas.pydata.org/pandas-docs/stable/user_guide/indexing.html#returning-a-view-versus-a-copy\n",
      "C:\\ProgramData\\Anaconda3\\lib\\site-packages\\ipykernel_launcher.py:32: SettingWithCopyWarning: \n",
      "A value is trying to be set on a copy of a slice from a DataFrame.\n",
      "Try using .loc[row_indexer,col_indexer] = value instead\n",
      "\n",
      "See the caveats in the documentation: http://pandas.pydata.org/pandas-docs/stable/user_guide/indexing.html#returning-a-view-versus-a-copy\n"
     ]
    }
   ],
   "source": [
    "#For Summer List\n",
    "\n",
    "#Creating new column 'Golden_Ratio'\n",
    "summer_df['Golden_Ratio']=summer_df['Gold_Summer']/summer_df['Total_Summer']\n",
    "\n",
    "\n",
    "#Finding the max value of 'Golden_Ratio' column\n",
    "summer_max_ratio=max(summer_df['Golden_Ratio'])\n",
    "\n",
    "#Finding the country assosciated with the max value of 'Golden_Ratio' column\n",
    "summer_country_gold=summer_df.loc[summer_df['Golden_Ratio'].idxmax(),'Country_Name']\n",
    "\n",
    "print(\"Top Summer Country:\", summer_country_gold, \" with a ratio of %.2f\" %summer_max_ratio )\n",
    "\n",
    "#For Winter List\n",
    "\n",
    "#Creating new column 'Golden_Ratio'\n",
    "winter_df['Golden_Ratio']=winter_df['Gold_Winter']/winter_df['Total_Winter']\n",
    "\n",
    "\n",
    "#Finding the max value of 'Golden_Ratio' column\n",
    "winter_max_ratio=max(winter_df['Golden_Ratio'])\n",
    "\n",
    "#Finding the country assosciated with the max value of 'Golden_Ratio' column\n",
    "winter_country_gold=winter_df.loc[winter_df['Golden_Ratio'].idxmax(),'Country_Name']\n",
    "\n",
    "print(\"Top Winter Country:\", winter_country_gold, \" with a ratio of %.2f\" %winter_max_ratio )\n",
    "\n",
    "#For Overall List\n",
    "\n",
    "#Creating new column 'Golden_Ratio'\n",
    "top_df['Golden_Ratio']=top_df['Gold_Total']/top_df['Total_Medals']\n",
    "\n",
    "#Finding the max value of 'Golden_Ratio' column\n",
    "top_max_ratio=max(top_df['Golden_Ratio'])\n",
    "\n",
    "#Finding the country assosciated with the max value of 'Golden_Ratio' column\n",
    "top_country_gold=top_df.loc[top_df['Golden_Ratio'].idxmax(),'Country_Name']\n",
    "\n",
    "print(\"Top Country:\", top_country_gold, \" with a ratio of %.2f\" %top_max_ratio )\n",
    "\n",
    "\n",
    "#Code ends hre"
   ]
  },
  {
   "cell_type": "markdown",
   "metadata": {},
   "source": [
    "Result :successfully found countries with the best gold ratio based on each event(Summer,Winter and Overall)"
   ]
  },
  {
   "cell_type": "markdown",
   "metadata": {},
   "source": [
    "## Step 6 : Best in the world\n",
    "Winning Gold is great but is winning most gold equivalent to being the best overall perfomer? Let's find out."
   ]
  },
  {
   "cell_type": "code",
   "execution_count": 6,
   "metadata": {},
   "outputs": [
    {
     "name": "stdout",
     "output_type": "stream",
     "text": [
      "The maximum points achieved is  5684  by  United States\n"
     ]
    },
    {
     "name": "stderr",
     "output_type": "stream",
     "text": [
      "C:\\ProgramData\\Anaconda3\\lib\\site-packages\\ipykernel_launcher.py:5: SettingWithCopyWarning: \n",
      "A value is trying to be set on a copy of a slice from a DataFrame.\n",
      "Try using .loc[row_indexer,col_indexer] = value instead\n",
      "\n",
      "See the caveats in the documentation: http://pandas.pydata.org/pandas-docs/stable/user_guide/indexing.html#returning-a-view-versus-a-copy\n",
      "  \"\"\"\n"
     ]
    }
   ],
   "source": [
    "#Removing the last column of the dataframe\n",
    "data_1=data[:-1]\n",
    "\n",
    "#Creating a new column 'Total_Points'\n",
    "data_1['Total_Points']= data_1['Gold_Total']*3 + data_1['Silver_Total']*2 + data_1['Bronze_Total']*1  # Use of position index to handle the ambiguity of having same name columns\n",
    "\n",
    "#Finding the maximum value of 'Total_Points' column\n",
    "most_points=max(data_1['Total_Points'])\n",
    "\n",
    "#Finding the country assosciated with the max value of 'Total_Column' column\n",
    "best_country=data_1.loc[data_1['Total_Points'].idxmax(),'Country_Name']\n",
    "print('The maximum points achieved is ', most_points, ' by ', best_country )"
   ]
  },
  {
   "cell_type": "markdown",
   "metadata": {},
   "source": [
    "Result : Found the top country based on the total points achieved during the olympic games."
   ]
  },
  {
   "cell_type": "markdown",
   "metadata": {},
   "source": [
    "## Step 7 : Plot for the best\n",
    "We know which country is best when it comes to winning the most points in Olympic Games. Let's plot the medal count to visualise their success better."
   ]
  },
  {
   "cell_type": "code",
   "execution_count": 7,
   "metadata": {},
   "outputs": [
    {
     "data": {
      "image/png": "[encoded data removed]",
      "text/plain": [
       "<Figure size 432x288 with 1 Axes>"
      ]
     },
     "metadata": {
      "needs_background": "light"
     },
     "output_type": "display_data"
    }
   ],
   "source": [
    "#Subsetting the dataframe\n",
    "best=data[data['Country_Name']==best_country]\n",
    "best.reset_index(drop = True, inplace = True)\n",
    "best=best[['Gold_Total','Silver_Total','Bronze_Total']]\n",
    "\n",
    "\n",
    "#Plotting bar plot\n",
    "best.plot.bar(stacked=True)\n",
    "\n",
    "#Changing the x-axis label\n",
    "plt.xlabel('United States')\n",
    "\n",
    "#Changing the y-axis label\n",
    "plt.ylabel('Medals Tally')\n",
    "\n",
    "#Rotating the ticks of X-axis\n",
    "plt.xticks(rotation=45)\n",
    "\n",
    "#Updating the graph legend\n",
    "l=plt.legend()\n",
    "l.get_texts()[0].set_text('Gold_Total :' + str(best['Gold_Total'].values))\n",
    "l.get_texts()[1].set_text('Silver_Total :' + str(best['Silver_Total'].values))\n",
    "l.get_texts()[2].set_text('Bronze_Total :' + str(best['Bronze_Total'].values))\n",
    "\n"
   ]
  },
  {
   "cell_type": "markdown",
   "metadata": {},
   "source": [
    "Result : Successfully plotted a stacked bar plot of the medals won by the top country in olympic games.\n",
    "\n"
   ]
  },
  {
   "cell_type": "code",
   "execution_count": null,
   "metadata": {},
   "outputs": [],
   "source": []
  }
 ],
 "metadata": {
  "kernelspec": {
   "display_name": "Python 3",
   "language": "python",
   "name": "python3"
  },
  "language_info": {
   "codemirror_mode": {
    "name": "ipython",
    "version": 3
   },
   "file_extension": ".py",
   "mimetype": "text/x-python",
   "name": "python",
   "nbconvert_exporter": "python",
   "pygments_lexer": "ipython3",
   "version": "3.7.0"
  }
 },
 "nbformat": 4,
 "nbformat_minor": 2
}
